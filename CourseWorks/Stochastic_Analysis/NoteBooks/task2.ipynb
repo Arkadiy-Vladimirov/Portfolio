{
 "cells": [
  {
   "cell_type": "markdown",
   "metadata": {},
   "source": [
    "Task #2\n",
    "======="
   ]
  },
  {
   "cell_type": "code",
   "execution_count": 2,
   "metadata": {},
   "outputs": [],
   "source": [
    "import numpy as np\n",
    "import pandas as pd\n",
    "import matplotlib.pyplot as plt\n",
    "import seaborn as sns\n",
    "sns.set_theme()\n",
    "from scipy.special import kolmogorov\n",
    "\n",
    "import math\n",
    "\n",
    "#_______________________________from_task1______________________________________\n",
    "def gen_bernulli(p, *shape):\n",
    "    \"\"\"Generates random sample [X1, X2,.. X_{size}] where Xi ~ Bern(n,p)\"\"\"\n",
    "    return 1*(np.random.rand(*shape) < p)\n",
    "#_______________________________________________________________________________"
   ]
  },
  {
   "cell_type": "markdown",
   "metadata": {},
   "source": [
    "***Goal:***\n",
    "* $\\delta \\sim \\mathrm{Cant}$\n",
    "* $F(\\delta)$ -- cantor function  \n",
    "\n",
    "***Implementation:***\n",
    "\n",
    "* $\\delta = \\sum\\limits_{i=1}^{\\infty} \\dfrac{2}{3^i}\\xi_i$\n",
    "* $F(\\delta) = \\sum\\limits_{i=1}^{\\infty} \\dfrac{1}{2^i}\\xi_i$"
   ]
  },
  {
   "cell_type": "code",
   "execution_count": 3,
   "metadata": {},
   "outputs": [],
   "source": [
    "def gen_cantor(n, eps = 0.0000001):\n",
    "    \"\"\"Generates random sample [X1, X2,.. X_n] \n",
    "    where Xi ~ Cantor(n) to within eps\"\"\"\n",
    "    result = {\"sample\": [], \"cantor function values\": []}\n",
    "\n",
    "    #find N satisfying precision eps,\n",
    "    #i.e minimal N such that dx = 1/(3^N) is less than epsilon,\n",
    "    #where dx is mesh step.\n",
    "    N = math.ceil(-math.log(eps,3))\n",
    "\n",
    "    #getting cantor random value\n",
    "    pow_3_list = [2.0/pow(3,i) for i in range(1,N+1)]\n",
    "    cant_rand = lambda x: np.dot(pow_3_list, x)\n",
    "    #getting cantor function value corresponding cant_rand value of x\n",
    "    pow_2_list = [1.0/pow(2,i) for i in range(1,N+1)]\n",
    "    cant_func = lambda x: np.dot(pow_2_list, x)\n",
    "\n",
    "    for i in range(n):\n",
    "        sample = gen_bernulli(0.5,N)\n",
    "        result[\"sample\"].append(cant_rand(sample))\n",
    "        result[\"cantor function values\"].append(cant_func(sample))\n",
    "    \n",
    "    return result"
   ]
  },
  {
   "cell_type": "code",
   "execution_count": 4,
   "metadata": {},
   "outputs": [
    {
     "data": {
      "text/plain": [
       "<seaborn.axisgrid.FacetGrid at 0x7fa674c294d0>"
      ]
     },
     "execution_count": 4,
     "metadata": {},
     "output_type": "execute_result"
    },
    {
     "data": {
      "image/png": "[encoded data removed]",
      "text/plain": [
       "<Figure size 360x360 with 1 Axes>"
      ]
     },
     "metadata": {
      "needs_background": "light"
     },
     "output_type": "display_data"
    }
   ],
   "source": [
    "sns.displot(pd.DataFrame({\"Value\":gen_cantor(10000)[\"sample\"]}), x = \"Value\", kind = \"ecdf\")"
   ]
  },
  {
   "cell_type": "markdown",
   "metadata": {},
   "source": [
    "***Goal:*** $D_n = \\sup\\limits_{-\\infty < x < \\infty} \n",
    "\\left | \\hat F_n(x) - F(x) \\right |,$\n",
    "+compute $K(\\sqrt{n}D_n)$, where $K(\\cdot)$ -- kolmogorov function  \n",
    "\n",
    "***Implementation:*** $D_n(x_1,\\ldots,x_n) = \\max\\limits_{1\\le i \\le n} \n",
    "\\left\\{\\dfrac{1}{n} - F(x_{(i)}),\\: F(x_{(i)}) - \\dfrac{i-1}{n}\\right\\}$"
   ]
  },
  {
   "cell_type": "code",
   "execution_count": 5,
   "metadata": {},
   "outputs": [
    {
     "name": "stdout",
     "output_type": "stream",
     "text": [
      "0.011579394531250009\n",
      "0.1368566646303943\n"
     ]
    }
   ],
   "source": [
    "n = 10000\n",
    "cfval = np.sort(np.array(gen_cantor(n)[\"cantor function values\"]))\n",
    "Dn = np.max(np.concatenate((1.0/n - cfval,\n",
    "                                    cfval - [(i-1.0)/n for i in range(1,n+1)]))) \n",
    "print(Dn)                                                             \n",
    "print(kolmogorov(math.sqrt(n)*Dn))  #kolmogorov(x) = 1 - K(x)"
   ]
  },
  {
   "cell_type": "markdown",
   "metadata": {},
   "source": [
    "***Goal:*** perform Smirnov test for goodness of fit of two samples  \n",
    "\n",
    "ecdf implementation:"
   ]
  },
  {
   "cell_type": "code",
   "execution_count": 6,
   "metadata": {},
   "outputs": [],
   "source": [
    "def ecdf(X):\n",
    "    \"\"\"Creates ecdf corresponding to random sample X\n",
    "    X --- numpy array\"\"\"\n",
    "\n",
    "    n = len(X)\n",
    "    ecdf = lambda x: (1.0/n) * len(X[X < x])\n",
    "    \n",
    "    return ecdf"
   ]
  },
  {
   "cell_type": "markdown",
   "metadata": {},
   "source": [
    "***Goal:*** check if $\\delta \\sim (1-\\delta)$ with Smirnov test  \n",
    "***Implementation:*** see report 2.2"
   ]
  },
  {
   "cell_type": "code",
   "execution_count": 7,
   "metadata": {},
   "outputs": [
    {
     "name": "stdout",
     "output_type": "stream",
     "text": [
      "0.027999999999999914\n",
      "0.8279568614595688\n"
     ]
    }
   ],
   "source": [
    "n, m = 1000, 1000\n",
    "X, Y = np.sort(np.array(gen_cantor(n)[\"sample\"])), np.sort(1.0 - np.array(gen_cantor(m)[\"sample\"]))\n",
    "F, G = ecdf(X), ecdf(Y)\n",
    "\n",
    "Dnm = max(max([i/n - G(X[i-1]) for i in range(1,n+1)]), max([j/m - F(Y[j-1]) for j in range(1,m+1)]))\n",
    "\n",
    "print(Dnm)\n",
    "print(kolmogorov(math.sqrt(n*m/(n+m)) * Dnm))"
   ]
  },
  {
   "cell_type": "markdown",
   "metadata": {},
   "source": [
    "***Goal:*** check if $\\delta \\sim \\delta\\bigr|_{[0,\\frac{1}{3}]}$ with Smirnov \n",
    "test  \n",
    "***Implementation:*** see report 2.2"
   ]
  },
  {
   "cell_type": "code",
   "execution_count": 8,
   "metadata": {},
   "outputs": [
    {
     "name": "stdout",
     "output_type": "stream",
     "text": [
      "0.44327272727272726\n",
      "0.02780282186509393\n"
     ]
    }
   ],
   "source": [
    "n, m = 1000, 20\n",
    "X = np.sort((1.0/3) * np.array(gen_cantor(n)[\"sample\"]))\n",
    "Y = np.sort(np.array(gen_cantor(m)[\"sample\"]))\n",
    "Y = Y[Y <= 1.0/3]\n",
    "m = len(Y)\n",
    "F, G = ecdf(X), ecdf(Y)\n",
    "\n",
    "Dnm = max(max([i/n - G(X[i-1]) for i in range(1,n+1)]), max([j/m - F(Y[j-1]) for j in range(1,m+1)]))\n",
    "\n",
    "print(Dnm)\n",
    "print(kolmogorov(math.sqrt(n*m/(n+m)) * Dnm))"
   ]
  },
  {
   "cell_type": "markdown",
   "metadata": {},
   "source": [
    "***Goal:*** count empirical mean and variance of $\\delta$"
   ]
  },
  {
   "cell_type": "code",
   "execution_count": 102,
   "metadata": {},
   "outputs": [
    {
     "data": {
      "text/plain": [
       "(<matplotlib.legend.Legend at 0x7fa664b77110>,\n",
       " <matplotlib.legend.Legend at 0x7fa664b1ac90>)"
      ]
     },
     "execution_count": 102,
     "metadata": {},
     "output_type": "execute_result"
    },
    {
     "data": {
      "image/png": "[encoded data removed]",
      "text/plain": [
       "<Figure size 648x288 with 2 Axes>"
      ]
     },
     "metadata": {},
     "output_type": "display_data"
    }
   ],
   "source": [
    "n = 10000\n",
    "X = np.array(gen_cantor(n)[\"sample\"])\n",
    "emp_mean = [np.mean(X[0:i]) for i in range(1,n+1)]\n",
    "emp_var  = [np.var (X[0:i]) for i in range(1,n+1)]\n",
    "\n",
    "fig0, axs = plt.subplots(ncols=2, nrows=1, figsize=(9,4), constrained_layout=True)\n",
    "axs[0].plot(emp_mean, label=r'$\\bar{x}$'), axs[1].plot(emp_var , label=r'$s^2$')\n",
    "axs[0].set_title(\"mean\"),                       axs[1].set_title(\"variance\")\n",
    "axs[0].set_xlabel(r'$n$'),                      axs[1].set_xlabel(r'$n$')\n",
    "axs[0].axhline(0.5,   linestyle=\"dashdot\", color='C1', label = r'$\\mathbb{E}$')\n",
    "axs[1].axhline(0.125, linestyle=\"dashdot\", color='C1', label = r'$\\mathbb{D}$')\n",
    "axs[0].legend(fontsize=12),                     axs[1].legend(fontsize=12)"
   ]
  }
 ],
 "metadata": {
  "interpreter": {
   "hash": "d457bc963da396659937151ab5f88e8ed0426a1a681cfe3ab22cc9f7fde1ca1c"
  },
  "kernelspec": {
   "display_name": "Python 3.7.12 64-bit ('stochan': conda)",
   "language": "python",
   "name": "python3"
  },
  "language_info": {
   "codemirror_mode": {
    "name": "ipython",
    "version": 3
   },
   "file_extension": ".py",
   "mimetype": "text/x-python",
   "name": "python",
   "nbconvert_exporter": "python",
   "pygments_lexer": "ipython3",
   "version": "3.7.12"
  },
  "orig_nbformat": 4
 },
 "nbformat": 4,
 "nbformat_minor": 2
}
