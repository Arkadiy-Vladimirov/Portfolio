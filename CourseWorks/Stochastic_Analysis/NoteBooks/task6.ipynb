{
 "cells": [
  {
   "cell_type": "markdown",
   "metadata": {},
   "source": [
    "Task #6\n",
    "======="
   ]
  },
  {
   "cell_type": "code",
   "execution_count": 3,
   "metadata": {},
   "outputs": [],
   "source": [
    "import numpy as np\n",
    "import pandas as pd\n",
    "import seaborn as sns\n",
    "import scipy.stats as sps\n",
    "import matplotlib.pyplot as plt\n",
    "import math\n",
    "\n",
    "sns.set_theme()"
   ]
  },
  {
   "cell_type": "markdown",
   "metadata": {},
   "source": [
    "#6.1a\n",
    "------\n",
    "Compute integral using Monte-Carlo method, i.e. calculate \n",
    "$\\overline F_n  = \\frac{1}{n}\\sum\\limits_{i=1}^{n} f(\\eta_i),\\:$\n",
    "that approximates $\\mathbb{E} f(\\eta),\\:$ where \n",
    "$$ f(x) = \\frac{\\pi^5 e^{\\textstyle{-}\\dfrac{1}{ 2^7\\cdot x_1^2 \\cdot \\ldots \\cdot x_{10}^2}}} {x_1^2 \\cdot \\ldots \\cdot x_{10}^2},\\quad\n",
    "\\eta \\sim \\mathcal{N}(0,\\tfrac{1}{2}E),\\quad E \\in \\mathbb{R}^{n\\times n}. $$"
   ]
  },
  {
   "cell_type": "code",
   "execution_count": 14,
   "metadata": {},
   "outputs": [],
   "source": [
    "def count_int_MC(n):\n",
    "    n = n**10\n",
    "    stat = np.prod(np.random.normal(0,np.sqrt(0.5),(10,n))**2,axis=0)\n",
    "    barFn =  1/n * np.sum( ( (np.pi**5) * np.e**(-1/((2**7)*stat)) ) / stat)\n",
    "    barFn2 = 1/n * np.sum((( (np.pi**5) * np.e**(-1/((2**7)*stat)) ) / stat)**2)\n",
    "    psi_n = 3*np.sqrt(barFn2 - barFn**2)/np.sqrt(n)\n",
    "    return barFn, psi_n"
   ]
  },
  {
   "cell_type": "code",
   "execution_count": 21,
   "metadata": {},
   "outputs": [
    {
     "name": "stdout",
     "output_type": "stream",
     "text": [
      "21.4 ms ± 288 µs per loop (mean ± std. dev. of 7 runs, 10 loops each)\n"
     ]
    }
   ],
   "source": [
    "%timeit count_int_MC(3)"
   ]
  },
  {
   "cell_type": "code",
   "execution_count": 22,
   "metadata": {},
   "outputs": [
    {
     "name": "stdout",
     "output_type": "stream",
     "text": [
      "416 ms ± 5.87 ms per loop (mean ± std. dev. of 7 runs, 1 loop each)\n"
     ]
    }
   ],
   "source": [
    "%timeit count_int_MC(4)"
   ]
  },
  {
   "cell_type": "code",
   "execution_count": 23,
   "metadata": {},
   "outputs": [
    {
     "name": "stdout",
     "output_type": "stream",
     "text": [
      "3.67 s ± 143 ms per loop (mean ± std. dev. of 7 runs, 1 loop each)\n"
     ]
    }
   ],
   "source": [
    "%timeit count_int_MC(5)"
   ]
  },
  {
   "cell_type": "markdown",
   "metadata": {},
   "source": [
    "#6.1b\n",
    "-----\n",
    "Compute integral \n",
    "$$ I = \\pi^{10} \\int\\limits_0^1 \\!\\! \\int\\limits_0^1 \\!\\! \\cdots \n",
    "\\!\\! \\int\\limits_0^1 \\frac\n",
    "{e^{-\\biggl(\\textstyle{ \\sum\\limits_{i=1}^{10} \\tg (\\frac{\\pi}{2}t_i)^2 + \n",
    "\\frac{1}{2^7 \\prod_{i=1}^{10}\\tg(\\frac{\\pi}{2}t_i)^2} }\\biggr)}}\n",
    "{\\prod_{i=1}^{10}\\tg(\\frac{\\pi}{2}t_i)^2 \\cdot \n",
    "\\prod_{i=1}^{10}\\cos(\\frac{\\pi}{2}t_i)^2}\\,dt. $$\n",
    "using midpoint Riemann summation.  \n",
    "For $n \\in \\mathbb{N}$ let $P = \\{t_0,\\ldots,t_n\\}^{10}$ be a uniform partition \n",
    "of $[0,1]^{10}$ with \n",
    "$\\Delta t = (\\delta t)^{10} = (t_1-t_0)^{10} = \\frac{1}{n^{10}}$ \n",
    "-- measure of single area. A node in mesh $M$ for $P$ is \n",
    "$$ y_{i_1,i_2,\\ldots,i_{10}} = \\left( \\dfrac{t_{i_1} - t_{i_1-1}}{2}, \n",
    "\\dfrac{t_{i_2} - t_{i_2-1}}{2}, \\ldots, \n",
    "\\dfrac{t_{i_{10}} - t_{i_{10}-1}}{2} \\right).$$ \n",
    "Therefore mesh $M = \\{ y_{i_1,i_2,\\ldots,i_{10}}, \n",
    "i_j = \\overline{1,n},\\: \\forall j = \\overline{1,10} \\}$\n",
    "and contains $n^{10}$ nodes. Finally\n",
    "$$\\widehat I_n = \\left(\\frac{\\pi}{n}\\right)^{10} \\cdot \\sum_{m \\in M} f(m).$$"
   ]
  },
  {
   "cell_type": "code",
   "execution_count": 16,
   "metadata": {},
   "outputs": [],
   "source": [
    "def count_int_RS(n):\n",
    "        mesh_1d = np.linspace(0, 1, n+2)[1:-1]\n",
    "        mesh_10d = np.array(np.meshgrid( mesh_1d, mesh_1d, mesh_1d, mesh_1d, mesh_1d,\\\n",
    "                                 mesh_1d, mesh_1d, mesh_1d, mesh_1d, mesh_1d))\n",
    "\n",
    "        pi2  = (np.pi/2)*mesh_10d\n",
    "\n",
    "        sin2 = np.sin(pi2)**2\n",
    "        cos2 = np.cos(pi2)**2\n",
    "        tg2 = sin2/cos2\n",
    "\n",
    "        In = (np.pi/n)**10 \\\n",
    "        * np.sum( np.e**( - (np.sum(tg2,axis=0) \\\n",
    "                          + 1/(2**7 * np.prod(tg2,axis=0)))) \\\n",
    "                  / np.prod(sin2, axis=0))\n",
    "        return In"
   ]
  },
  {
   "cell_type": "code",
   "execution_count": 24,
   "metadata": {},
   "outputs": [
    {
     "name": "stdout",
     "output_type": "stream",
     "text": [
      "30.5 ms ± 1.3 ms per loop (mean ± std. dev. of 7 runs, 10 loops each)\n"
     ]
    }
   ],
   "source": [
    "%timeit count_int_RS(3)"
   ]
  },
  {
   "cell_type": "code",
   "execution_count": 25,
   "metadata": {},
   "outputs": [
    {
     "name": "stdout",
     "output_type": "stream",
     "text": [
      "474 ms ± 21.8 ms per loop (mean ± std. dev. of 7 runs, 1 loop each)\n"
     ]
    }
   ],
   "source": [
    "%timeit count_int_RS(4)"
   ]
  },
  {
   "cell_type": "code",
   "execution_count": 26,
   "metadata": {},
   "outputs": [
    {
     "name": "stdout",
     "output_type": "stream",
     "text": [
      "5.19 s ± 398 ms per loop (mean ± std. dev. of 7 runs, 1 loop each)\n"
     ]
    }
   ],
   "source": [
    "%timeit count_int_RS(5)"
   ]
  }
 ],
 "metadata": {
  "interpreter": {
   "hash": "d457bc963da396659937151ab5f88e8ed0426a1a681cfe3ab22cc9f7fde1ca1c"
  },
  "kernelspec": {
   "display_name": "Python 3.7.12 64-bit ('stochan': conda)",
   "language": "python",
   "name": "python3"
  },
  "language_info": {
   "codemirror_mode": {
    "name": "ipython",
    "version": 3
   },
   "file_extension": ".py",
   "mimetype": "text/x-python",
   "name": "python",
   "nbconvert_exporter": "python",
   "pygments_lexer": "ipython3",
   "version": "3.7.12"
  },
  "orig_nbformat": 4
 },
 "nbformat": 4,
 "nbformat_minor": 2
}
