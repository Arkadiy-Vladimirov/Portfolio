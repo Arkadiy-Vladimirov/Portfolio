{
 "cells": [
  {
   "cell_type": "markdown",
   "metadata": {},
   "source": [
    "Task #7\n",
    "======="
   ]
  },
  {
   "cell_type": "code",
   "execution_count": 1,
   "metadata": {},
   "outputs": [],
   "source": [
    "import numpy as np\n",
    "import pandas as pd\n",
    "import seaborn as sns\n",
    "import scipy.stats as sps\n",
    "import matplotlib.pyplot as plt\n",
    "import math\n",
    "\n",
    "sns.set_theme()"
   ]
  },
  {
   "cell_type": "markdown",
   "metadata": {},
   "source": [
    "#7.1 (random search)\n",
    "----\n",
    "The program generates noramally distributed mesh XY in single circle, then \n",
    "chooses $min$ $f$ among mesh dots."
   ]
  },
  {
   "cell_type": "code",
   "execution_count": 2,
   "metadata": {},
   "outputs": [
    {
     "data": {
      "text/plain": [
       "(array([-0.34697031,  0.93787256]), -1.2870258832421397)"
      ]
     },
     "execution_count": 2,
     "metadata": {},
     "output_type": "execute_result"
    }
   ],
   "source": [
    "n = 1000000\n",
    "f = lambda XY: XY[0,:]**3 * np.sin(1/XY[0,:])\\\n",
    "                                    + 10*XY[0,:]*XY[1,:]**4 * np.cos(1/XY[1,:])\n",
    "#__mesh_generation__                                    \n",
    "r   = np.random.rand(1,n)\n",
    "phi = 2*np.pi * np.random.rand(1,n)\n",
    "X = np.sqrt(r) * np.cos(phi)\n",
    "Y = np.sqrt(r) * np.sin(phi)\n",
    "XY  = np.concatenate((X,Y))\n",
    "#__function_and_the_minimum_computing__\n",
    "fXY = f(XY)\n",
    "argmin = np.argmin(fXY)\n",
    "XY[:,argmin], fXY[argmin]"
   ]
  },
  {
   "cell_type": "markdown",
   "metadata": {},
   "source": [
    "#7.2 (simulated annealing)\n",
    "----\n",
    "The program performs simulated annealing to find the global minimum of given \n",
    "function $f$"
   ]
  },
  {
   "cell_type": "code",
   "execution_count": 211,
   "metadata": {},
   "outputs": [
    {
     "data": {
      "text/plain": [
       "([1.038270631015059, 1.0820842236366868], 0.0031279109335485998)"
      ]
     },
     "execution_count": 211,
     "metadata": {},
     "output_type": "execute_result"
    }
   ],
   "source": [
    "n = 100\n",
    "x0 = np.array([0,0])\n",
    "sigma = 2\n",
    "q0, k = 1000, 0.93\n",
    "g = lambda xy: (xy[0] - 1)**2 + 100*(xy[1] - (xy[0])**2)**2\n",
    "\n",
    "x_i, q_i = x0, q0\n",
    "for i in range(1,n): #for n steps (meaning while temperature is higher than k*q0^n)\n",
    "    not_switched = True\n",
    "    while not_switched: #while new dot is not found\n",
    "        #generated new possible dot (normal disribution around previous dot)\n",
    "        x_s = [np.random.normal(x_i[0],sigma**2 / q_i),\\\n",
    "                                        np.random.normal(x_i[1],sigma**2 / q_i)]\n",
    "        #if g(x_s) is less than previous value than let x_s be a new dot                                \n",
    "        if g(x_s) <= g(x_i):\n",
    "            x_i = x_s\n",
    "            q_i = k*q_i\n",
    "            not_switched = False\n",
    "        #if not the x_s is a new dot with some probability\n",
    "        else:\n",
    "            if (np.random.rand() < np.exp(-(g(x_s) - g(x_i))/q_i)):\n",
    "                x_i = x_s\n",
    "                q_i = k*q_i\n",
    "                not_switched = False\n",
    "\n",
    "x_i, g(x_i)"
   ]
  }
 ],
 "metadata": {
  "interpreter": {
   "hash": "d457bc963da396659937151ab5f88e8ed0426a1a681cfe3ab22cc9f7fde1ca1c"
  },
  "kernelspec": {
   "display_name": "Python 3.7.12 64-bit ('stochan': conda)",
   "language": "python",
   "name": "python3"
  },
  "language_info": {
   "codemirror_mode": {
    "name": "ipython",
    "version": 3
   },
   "file_extension": ".py",
   "mimetype": "text/x-python",
   "name": "python",
   "nbconvert_exporter": "python",
   "pygments_lexer": "ipython3",
   "version": "3.7.12"
  },
  "orig_nbformat": 4
 },
 "nbformat": 4,
 "nbformat_minor": 2
}
